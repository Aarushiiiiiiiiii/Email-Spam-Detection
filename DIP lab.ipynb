{
  "cells": [
    {
      "cell_type": "markdown",
      "metadata": {
        "id": "view-in-github",
        "colab_type": "text"
      },
      "source": [
        "<a href=\"https://colab.research.google.com/github/Aarushiiiiiiiiii/Email-Spam-Detection/blob/main/DIP%20lab.ipynb\" target=\"_parent\"><img src=\"https://colab.research.google.com/assets/colab-badge.svg\" alt=\"Open In Colab\"/></a>"
      ]
    },
    {
      "cell_type": "code",
      "source": [
        "pip install pillow\n"
      ],
      "metadata": {
        "id": "-qOug2B-5odN",
        "outputId": "fd6349e0-4dfd-4d34-9d4c-5c0b88931633",
        "colab": {
          "base_uri": "https://localhost:8080/"
        }
      },
      "execution_count": 1,
      "outputs": [
        {
          "output_type": "stream",
          "name": "stdout",
          "text": [
            "Requirement already satisfied: pillow in /usr/local/lib/python3.11/dist-packages (11.1.0)\n"
          ]
        }
      ]
    },
    {
      "source": [
        "from PIL import Image\n",
        "\n",
        "def rotate_image(image_path, angles):\n",
        "    # Open the image file\n",
        "    try:\n",
        "        image = Image.open(\"image.jpg\")\n",
        "    except FileNotFoundError:\n",
        "        print(f\"Error: Image file not found at {image_path}\")\n",
        "        return\n",
        "\n",
        "    # Rotate the image for each specified angle and save/display the results\n",
        "    for angle in angles:\n",
        "        rotated_image = image.rotate(angle, expand=True)\n",
        "        rotated_image.show()  # Display the image\n",
        "        rotated_image.save(f\"rotated_{angle}_degrees.png\")  # Save the rotated image\n",
        "        print(f\"Image rotated by {angle} degrees and saved as 'rotated_{angle}_degrees.png'.\")\n",
        "\n",
        "# Path to your image file\n",
        "image_path = \"C:\\\\Users\\\\Aarushi Singh\\\\Downloads\\\\image.jpg\" # Updated with your specific image path\n",
        "\n",
        "# Angles to rotate the image\n",
        "angles = [45, 90, 120]\n",
        "\n",
        "# Call the function\n",
        "rotate_image(image_path, angles)"
      ],
      "cell_type": "code",
      "metadata": {
        "id": "uIkOxQlP6a1Q",
        "outputId": "451da50c-95c3-4c46-ea72-54af1760f294",
        "colab": {
          "base_uri": "https://localhost:8080/"
        }
      },
      "execution_count": 10,
      "outputs": [
        {
          "output_type": "stream",
          "name": "stdout",
          "text": [
            "Image rotated by 45 degrees and saved as 'rotated_45_degrees.png'.\n",
            "Image rotated by 90 degrees and saved as 'rotated_90_degrees.png'.\n",
            "Image rotated by 120 degrees and saved as 'rotated_120_degrees.png'.\n"
          ]
        }
      ]
    }
  ],
  "metadata": {
    "colab": {
      "provenance": [],
      "include_colab_link": true
    },
    "kernelspec": {
      "display_name": "Python 3",
      "name": "python3"
    },
    "language_info": {
      "name": "python"
    }
  },
  "nbformat": 4,
  "nbformat_minor": 0
}